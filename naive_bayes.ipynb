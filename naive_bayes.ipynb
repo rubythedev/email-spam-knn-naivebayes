{
 "cells": [
  {
   "cell_type": "markdown",
   "metadata": {},
   "source": [
    "# Supervised Learning: K Nearest Neighbors (KNN) and Naive Bayes Classifier\n",
    "\n",
    "The overall goal of this project is to implement an email spam filter to determine whether an email is spam (*spam*) or not (*ham*). You will implement and compare the performance of two supervised learning algorithms: **K Nearest Neighbors (KNN)** and **Naive Bayes**.\n",
    "\n",
    "**Ruby Nunez**"
   ]
  },
  {
   "cell_type": "code",
   "execution_count": 2,
   "metadata": {},
   "outputs": [],
   "source": [
    "import os\n",
    "import random\n",
    "import numpy as np\n",
    "import matplotlib.pyplot as plt\n",
    "import pandas as pd\n",
    "\n",
    "plt.style.use(['seaborn-colorblind', 'seaborn-darkgrid'])\n",
    "plt.rcParams.update({'font.size': 20})\n",
    "\n",
    "np.set_printoptions(suppress=True, precision=5)\n",
    "\n",
    "# Automatically reload external modules\n",
    "%load_ext autoreload\n",
    "%autoreload 2"
   ]
  },
  {
   "cell_type": "markdown",
   "metadata": {},
   "source": [
    "## Preprocess full spam email dataset "
   ]
  },
  {
   "cell_type": "code",
   "execution_count": 3,
   "metadata": {},
   "outputs": [],
   "source": [
    "import email_preprocessor as epp"
   ]
  },
  {
   "cell_type": "markdown",
   "metadata": {},
   "source": [
    "#### Test `count_words` and `find_top_words`"
   ]
  },
  {
   "cell_type": "code",
   "execution_count": 4,
   "metadata": {},
   "outputs": [],
   "source": [
    "word_freq, num_emails = epp.count_words()"
   ]
  },
  {
   "cell_type": "code",
   "execution_count": 6,
   "metadata": {},
   "outputs": [
    {
     "name": "stdout",
     "output_type": "stream",
     "text": [
      "Your top 5 words are\n",
      "['the', 'to', 'and', 'of', 'a']\n",
      "and they should be\n",
      "['the', 'to', 'and', 'of', 'a']\n",
      "The associated counts are\n",
      "[277459, 203659, 148873, 139578, 111796]\n",
      "and they should be\n",
      "[277459, 203659, 148873, 139578, 111796]\n"
     ]
    }
   ],
   "source": [
    "top_words, top_counts = epp.find_top_words(word_freq)\n",
    "print(f\"Your top 5 words are\\n{top_words[:5]}\\nand they should be\\n['the', 'to', 'and', 'of', 'a']\")\n",
    "print(f\"The associated counts are\\n{top_counts[:5]}\\nand they should be\\n[277459, 203659, 148873, 139578, 111796]\")"
   ]
  },
  {
   "cell_type": "markdown",
   "metadata": {},
   "source": [
    "### Make train and test splits of the dataset\n",
    "\n",
    "Divide the email features into a 80/20 train/test split (80% of data used to train the supervised learning model, 20% we withhold and use for testing / prediction)."
   ]
  },
  {
   "cell_type": "code",
   "execution_count": 7,
   "metadata": {},
   "outputs": [],
   "source": [
    "features, y = epp.make_feature_vectors(top_words, num_emails)"
   ]
  },
  {
   "cell_type": "code",
   "execution_count": 8,
   "metadata": {},
   "outputs": [],
   "source": [
    "np.random.seed(0)\n",
    "x_train, y_train, inds_train, x_test, y_test, inds_test = epp.make_train_test_sets(features, y)"
   ]
  },
  {
   "cell_type": "code",
   "execution_count": 9,
   "metadata": {},
   "outputs": [
    {
     "name": "stdout",
     "output_type": "stream",
     "text": [
      "Shapes for train/test splits:\n",
      "Train (26100, 200), classes (26100,)\n",
      "Test (6525, 200), classes (6525,)\n",
      "\n",
      "They should be:\n",
      "Train (26100, 200), classes (26100,)\n",
      "Test (6525, 200), classes (6525,)\n"
     ]
    }
   ],
   "source": [
    "print('Shapes for train/test splits:')\n",
    "print(f'Train {x_train.shape}, classes {y_train.shape}')\n",
    "print(f'Test {x_test.shape}, classes {y_test.shape}')\n",
    "print('\\nThey should be:\\nTrain (26100, 200), classes (26100,)\\nTest (6525, 200), classes (6525,)')"
   ]
  },
  {
   "cell_type": "markdown",
   "metadata": {},
   "source": [
    "### Save data in binary format\n",
    "\n",
    "Exporting the data in memory to disk in a binary format. Helps to quickly load all the data back into memory (directly in ndarray format).\n",
    "\n",
    "Running the following cell uses numpy's `save` function to make six files in `.npy` format (e.g. `email_train_x.npy`, `email_train_y.npy`, `email_train_inds.npy`, `email_test_x.npy`, `email_test_y.npy`, `email_test_inds.npy`)."
   ]
  },
  {
   "cell_type": "code",
   "execution_count": 10,
   "metadata": {},
   "outputs": [],
   "source": [
    "np.save('data/email_train_x.npy', x_train)\n",
    "np.save('data/email_train_y.npy', y_train)\n",
    "np.save('data/email_train_inds.npy', inds_train)\n",
    "np.save('data/email_test_x.npy', x_test)\n",
    "np.save('data/email_test_y.npy', y_test)\n",
    "np.save('data/email_test_inds.npy', inds_test)"
   ]
  },
  {
   "cell_type": "markdown",
   "metadata": {},
   "source": [
    "## Naive Bayes Classifier\n",
    "\n",
    "Implementing **Naive Bayes**, a supervised learning algorithm that will be used to classify email."
   ]
  },
  {
   "cell_type": "code",
   "execution_count": 11,
   "metadata": {},
   "outputs": [],
   "source": [
    "from naive_bayes import NaiveBayes"
   ]
  },
  {
   "cell_type": "markdown",
   "metadata": {},
   "source": [
    "#### Test `train`\n",
    "\n",
    "###### Class priors and likelihoods\n",
    "\n",
    "The following test should be used only if storing the class priors and likelihoods directly."
   ]
  },
  {
   "cell_type": "code",
   "execution_count": 12,
   "metadata": {},
   "outputs": [
    {
     "name": "stdout",
     "output_type": "stream",
     "text": [
      "Your class priors are: [0.28 0.22 0.32 0.18]\n",
      "and should be          [0.28 0.22 0.32 0.18].\n",
      "Your class likelihoods shape is (4, 6) and should be (4, 6).\n",
      "Your likelihoods are:\n",
      "[[0.15997 0.15091 0.2079  0.19106 0.14184 0.14832]\n",
      " [0.11859 0.16821 0.17914 0.16905 0.18082 0.18419]\n",
      " [0.16884 0.17318 0.14495 0.14332 0.18784 0.18187]\n",
      " [0.16126 0.17011 0.15831 0.13963 0.18977 0.18092]]\n",
      "and should be\n",
      "[[0.15997 0.15091 0.2079  0.19106 0.14184 0.14832]\n",
      " [0.11859 0.16821 0.17914 0.16905 0.18082 0.18419]\n",
      " [0.16884 0.17318 0.14495 0.14332 0.18784 0.18187]\n",
      " [0.16126 0.17011 0.15831 0.13963 0.18977 0.18092]]\n"
     ]
    }
   ],
   "source": [
    "num_test_classes = 4\n",
    "np.random.seed(0)\n",
    "data_test = np.random.randint(low=0, high=20, size=(100, 6))\n",
    "y_test = np.random.randint(low=0, high=num_test_classes, size=(100,))\n",
    "\n",
    "nbc = NaiveBayes(num_classes=num_test_classes)\n",
    "nbc.train(data_test, y_test)\n",
    "\n",
    "print(f'Your class priors are: {nbc.get_priors()}\\nand should be          [0.28 0.22 0.32 0.18].')\n",
    "print(f'Your class likelihoods shape is {nbc.get_likelihoods().shape} and should be (4, 6).')\n",
    "print(f'Your likelihoods are:\\n{nbc.get_likelihoods()}')\n",
    "\n",
    "print(f'and should be')\n",
    "print('''[[0.15997 0.15091 0.2079  0.19106 0.14184 0.14832]\n",
    " [0.11859 0.16821 0.17914 0.16905 0.18082 0.18419]\n",
    " [0.16884 0.17318 0.14495 0.14332 0.18784 0.18187]\n",
    " [0.16126 0.17011 0.15831 0.13963 0.18977 0.18092]]''')"
   ]
  },
  {
   "cell_type": "markdown",
   "metadata": {},
   "source": [
    "###### Log of class priors and likelihoods\n",
    "\n",
    "This test should be used only if storing the log of the class priors and likelihoods."
   ]
  },
  {
   "cell_type": "code",
   "execution_count": 13,
   "metadata": {},
   "outputs": [
    {
     "name": "stdout",
     "output_type": "stream",
     "text": [
      "Your log class priors are: [0.28 0.22 0.32 0.18]\n",
      "and should be              [-1.27297 -1.51413 -1.13943 -1.7148 ].\n",
      "Your log class likelihoods shape is (4, 6) and should be (4, 6).\n",
      "Your log likelihoods are:\n",
      "[[0.15997 0.15091 0.2079  0.19106 0.14184 0.14832]\n",
      " [0.11859 0.16821 0.17914 0.16905 0.18082 0.18419]\n",
      " [0.16884 0.17318 0.14495 0.14332 0.18784 0.18187]\n",
      " [0.16126 0.17011 0.15831 0.13963 0.18977 0.18092]]\n",
      "and should be\n",
      "[[-1.83274 -1.89109 -1.57069 -1.65516 -1.95306 -1.90841]\n",
      " [-2.13211 -1.78255 -1.71958 -1.77756 -1.71023 -1.6918 ]\n",
      " [-1.77881 -1.75342 -1.93136 -1.94266 -1.67217 -1.70448]\n",
      " [-1.82475 -1.77132 -1.84321 -1.96879 -1.66192 -1.70968]]\n"
     ]
    }
   ],
   "source": [
    "num_test_classes = 4\n",
    "np.random.seed(0)\n",
    "data_test = np.random.randint(low=0, high=20, size=(100, 6))\n",
    "y_test = np.random.randint(low=0, high=num_test_classes, size=(100,))\n",
    "\n",
    "nbc = NaiveBayes(num_classes=num_test_classes)\n",
    "nbc.train(data_test, y_test)\n",
    "\n",
    "print(f'Your log class priors are: {nbc.get_priors()}\\nand should be              [-1.27297 -1.51413 -1.13943 -1.7148 ].')\n",
    "print(f'Your log class likelihoods shape is {nbc.get_likelihoods().shape} and should be (4, 6).')\n",
    "print(f'Your log likelihoods are:\\n{nbc.get_likelihoods()}')\n",
    "\n",
    "\n",
    "print(f'and should be')\n",
    "print('''[[-1.83274 -1.89109 -1.57069 -1.65516 -1.95306 -1.90841]\n",
    " [-2.13211 -1.78255 -1.71958 -1.77756 -1.71023 -1.6918 ]\n",
    " [-1.77881 -1.75342 -1.93136 -1.94266 -1.67217 -1.70448]\n",
    " [-1.82475 -1.77132 -1.84321 -1.96879 -1.66192 -1.70968]]''')"
   ]
  },
  {
   "cell_type": "markdown",
   "metadata": {},
   "source": [
    "#### Test `predict`"
   ]
  },
  {
   "cell_type": "code",
   "execution_count": 14,
   "metadata": {},
   "outputs": [
    {
     "name": "stdout",
     "output_type": "stream",
     "text": [
      "Your predicted classes are\n",
      "[3 0 3 1 0 1 1 3 0 3 0 2 0 2 1]\n",
      "and should be\n",
      "[3 0 3 1 0 1 1 3 0 3 0 2 0 2 1]\n"
     ]
    }
   ],
   "source": [
    "num_test_classes = 4\n",
    "np.random.seed(0)\n",
    "data_train = np.random.randint(low=0, high=num_test_classes, size=(100, 10))\n",
    "data_test = np.random.randint(low=0, high=num_test_classes, size=(15, 10))\n",
    "y_test = np.random.randint(low=0, high=num_test_classes, size=(100,))\n",
    "\n",
    "nbc = NaiveBayes(num_classes=num_test_classes)\n",
    "nbc.train(data_train, y_test)\n",
    "test_y_pred = nbc.predict(data_test)\n",
    "\n",
    "print(f'Your predicted classes are\\n{test_y_pred}\\nand should be\\n[3 0 3 1 0 1 1 3 0 3 0 2 0 2 1]')"
   ]
  },
  {
   "cell_type": "markdown",
   "metadata": {},
   "source": [
    "### Spam filtering\n",
    "\n",
    "Classifying spam email using the Naive Bayes classifier. The following code uses `np.load` to load in the train/test split."
   ]
  },
  {
   "cell_type": "code",
   "execution_count": 15,
   "metadata": {},
   "outputs": [],
   "source": [
    "import email_preprocessor as ep"
   ]
  },
  {
   "cell_type": "code",
   "execution_count": 16,
   "metadata": {},
   "outputs": [],
   "source": [
    "x_train = np.load('data/email_train_x.npy')\n",
    "y_train = np.load('data/email_train_y.npy')\n",
    "inds_train = np.load('data/email_train_inds.npy')\n",
    "x_test = np.load('data/email_test_x.npy')\n",
    "y_test = np.load('data/email_test_y.npy')\n",
    "inds_test = np.load('data/email_test_inds.npy')"
   ]
  },
  {
   "cell_type": "code",
   "execution_count": 17,
   "metadata": {},
   "outputs": [
    {
     "name": "stdout",
     "output_type": "stream",
     "text": [
      "Accuracy: 89.59%\n"
     ]
    }
   ],
   "source": [
    "num_classes = 2\n",
    "enron_nbc = NaiveBayes(num_classes=num_classes)\n",
    "\n",
    "enron_nbc.train(x_train, y_train)\n",
    "\n",
    "test_y_pred = enron_nbc.predict(x_test)\n",
    "\n",
    "accuracy = enron_nbc.accuracy(y_test, test_y_pred)\n",
    "\n",
    "print(f\"Accuracy: {accuracy:.2f}%\")"
   ]
  },
  {
   "cell_type": "markdown",
   "metadata": {},
   "source": [
    "### Confusion matrix"
   ]
  },
  {
   "cell_type": "code",
   "execution_count": 18,
   "metadata": {},
   "outputs": [
    {
     "name": "stdout",
     "output_type": "stream",
     "text": [
      "[[2831.  508.]\n",
      " [ 171. 3015.]]\n",
      "Sum of Confusion Matrix: 6525.0 and should be 6525\n",
      "Sum of Spam Row: 3186.0 and should be 3193\n",
      "Sum of Ham Row: 3339.0 and should be 3332\n"
     ]
    }
   ],
   "source": [
    "confusion_matrix = enron_nbc.confusion_matrix(y_test, test_y_pred)\n",
    "print(confusion_matrix)\n",
    "print(\"Sum of Confusion Matrix:\", np.sum(confusion_matrix), \"and should be 6525\")\n",
    "print(\"Sum of Spam Row:\", np.sum(confusion_matrix[1, :]), \"and should be 3193\")\n",
    "print(\"Sum of Ham Row:\", np.sum(confusion_matrix[0, :]), \"and should be 3332\")"
   ]
  },
  {
   "cell_type": "markdown",
   "metadata": {},
   "source": [
    "## Comparison with KNN\n",
    "Same analysis on a KNN classifier."
   ]
  },
  {
   "cell_type": "code",
   "execution_count": 19,
   "metadata": {},
   "outputs": [],
   "source": [
    "from knn import KNN"
   ]
  },
  {
   "cell_type": "code",
   "execution_count": 22,
   "metadata": {
    "scrolled": true
   },
   "outputs": [
    {
     "name": "stdout",
     "output_type": "stream",
     "text": [
      "Accuracy: 0.91%\n",
      "[[233.  33.]\n",
      " [ 10. 224.]]\n"
     ]
    }
   ],
   "source": [
    "x_train = np.load('data/email_train_x.npy')\n",
    "y_train = np.load('data/email_train_y.npy')\n",
    "inds_train = np.load('data/email_train_inds.npy')\n",
    "x_test = np.load('data/email_test_x.npy')[:500]\n",
    "y_test = np.load('data/email_test_y.npy')[:500]\n",
    "inds_test = np.load('data/email_test_inds.npy')\n",
    "num_classes = 2\n",
    "\n",
    "enron_knn = KNN(num_classes)\n",
    "enron_knn.train(x_train, y_train)\n",
    "\n",
    "test_y_pred = enron_knn.predict(x_test, k=3)\n",
    "\n",
    "accuracy = enron_knn.accuracy(y_test, test_y_pred)\n",
    "print(f\"Accuracy: {accuracy:.2f}%\")\n",
    "\n",
    "confusion_matrix = enron_knn.confusion_matrix(y_test, test_y_pred)\n",
    "print(confusion_matrix)"
   ]
  },
  {
   "cell_type": "code",
   "execution_count": null,
   "metadata": {},
   "outputs": [],
   "source": []
  }
 ],
 "metadata": {
  "kernelspec": {
   "display_name": "Python 3 (ipykernel)",
   "language": "python",
   "name": "python3"
  },
  "language_info": {
   "codemirror_mode": {
    "name": "ipython",
    "version": 3
   },
   "file_extension": ".py",
   "mimetype": "text/x-python",
   "name": "python",
   "nbconvert_exporter": "python",
   "pygments_lexer": "ipython3",
   "version": "3.9.6"
  },
  "vscode": {
   "interpreter": {
    "hash": "aee8b7b246df8f9039afb4144a1f6fd8d2ca17a180786b69acc140d282b71a49"
   }
  }
 },
 "nbformat": 4,
 "nbformat_minor": 4
}
